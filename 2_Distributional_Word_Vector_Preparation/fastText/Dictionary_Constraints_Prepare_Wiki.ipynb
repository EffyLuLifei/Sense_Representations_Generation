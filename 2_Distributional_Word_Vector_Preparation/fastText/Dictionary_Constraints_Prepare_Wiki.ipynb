{
 "cells": [
  {
   "cell_type": "markdown",
   "metadata": {},
   "source": [
    "# Wiki Dictionary and Constraints Prepare"
   ]
  },
  {
   "cell_type": "markdown",
   "metadata": {},
   "source": [
    "##### Import packages"
   ]
  },
  {
   "cell_type": "code",
   "execution_count": 10,
   "metadata": {},
   "outputs": [],
   "source": [
    "import io\n",
    "import os\n",
    "import numpy\n",
    "from gensim import models"
   ]
  },
  {
   "cell_type": "markdown",
   "metadata": {},
   "source": [
    "#####  Set the path"
   ]
  },
  {
   "cell_type": "code",
   "execution_count": 2,
   "metadata": {},
   "outputs": [
    {
     "name": "stdout",
     "output_type": "stream",
     "text": [
      "/Users/effylu/Desktop/Thesis\n"
     ]
    }
   ],
   "source": [
    "print(os.getcwd())"
   ]
  },
  {
   "cell_type": "markdown",
   "metadata": {},
   "source": [
    "##### Read constraint pairs"
   ]
  },
  {
   "cell_type": "code",
   "execution_count": 3,
   "metadata": {},
   "outputs": [],
   "source": [
    "synonym_file = open(\"synpairs.txt\", \"r\")\n",
    "antonym_file = open(\"antpairs.txt\", \"r\")\n",
    "synonym_pair = synonym_file.readlines()\n",
    "antonym_pair = antonym_file.readlines()\n",
    "synonym_file.close()\n",
    "antonym_file.close()"
   ]
  },
  {
   "cell_type": "code",
   "execution_count": 4,
   "metadata": {},
   "outputs": [],
   "source": [
    "synonym_pairs = list()\n",
    "for i in synonym_pair:\n",
    "    try:\n",
    "        w = [i.split(\",\")[0][2:-1], i.split(\",\")[1][2:-3]]\n",
    "        synonym_pairs.append(w)\n",
    "    except:\n",
    "        continue\n",
    "antonym_pairs = list()\n",
    "for i in antonym_pair:\n",
    "    try:\n",
    "        w = [i.split(\",\")[0][2:-1], i.split(\",\")[1][2:-3]]\n",
    "        antonym_pairs.append(w)\n",
    "    except:\n",
    "        continue "
   ]
  },
  {
   "cell_type": "code",
   "execution_count": 5,
   "metadata": {},
   "outputs": [
    {
     "name": "stdout",
     "output_type": "stream",
     "text": [
      "['abstraction.n.06.abstraction', 'abstraction.n.06.abstract_entity']\n",
      "['object.n.01.object', 'object.n.01.physical_object']\n",
      "['whole.n.02.whole', 'whole.n.02.unit']\n",
      "['living_thing.n.01.living_thing', 'living_thing.n.01.animate_thing']\n",
      "['organism.n.01.organism', 'organism.n.01.being']\n",
      "\n",
      "['abience.n.01.abience', 'adience.n.01.adience']\n",
      "['ability.n.01.ability', 'inability.n.02.inability']\n",
      "['ability.n.01.ability', 'inability.n.02.unfitness']\n",
      "['ability.n.02.ability', 'inability.n.01.inability']\n",
      "['ability.n.02.power', 'inability.n.01.inability']\n"
     ]
    }
   ],
   "source": [
    "for i in range(0,5):\n",
    "    print(synonym_pairs[i])\n",
    "print()\n",
    "for i in range(0,5):\n",
    "    print(antonym_pairs[i])"
   ]
  },
  {
   "cell_type": "code",
   "execution_count": 6,
   "metadata": {},
   "outputs": [
    {
     "name": "stdout",
     "output_type": "stream",
     "text": [
      "154776\n",
      "9977\n"
     ]
    }
   ],
   "source": [
    "print(len(synonym_pairs))\n",
    "print(len(antonym_pairs))"
   ]
  },
  {
   "cell_type": "markdown",
   "metadata": {},
   "source": [
    "##### Defind function for loading the FastText word embedding vectors"
   ]
  },
  {
   "cell_type": "code",
   "execution_count": 2,
   "metadata": {},
   "outputs": [],
   "source": [
    "def load_vectors(fname):\n",
    "    fin = io.open(fname, 'r', encoding='utf-8', newline='\\n', errors='ignore')\n",
    "    n, d = map(int, fin.readline().split())\n",
    "    data = {}\n",
    "    i = 0\n",
    "    for line in fin:\n",
    "        i = i + 1\n",
    "        tokens = line.rstrip().split(' ')\n",
    "        #data[tokens[0]] = map(float, tokens[1:])\n",
    "        data[tokens[0]] = [float(x) for x in tokens[1:]]\n",
    "        if i == 1000000:\n",
    "            break\n",
    "    return data"
   ]
  },
  {
   "cell_type": "code",
   "execution_count": 4,
   "metadata": {},
   "outputs": [],
   "source": [
    "word_vector = load_vectors('wiki.en.vec')"
   ]
  },
  {
   "cell_type": "code",
   "execution_count": 25,
   "metadata": {
    "scrolled": true
   },
   "outputs": [],
   "source": [
    "if 'dog' in word_vector:\n",
    "    print(word_vector.get('dog'))"
   ]
  },
  {
   "cell_type": "markdown",
   "metadata": {},
   "source": [
    "##### Define the function for creating the new dictionary"
   ]
  },
  {
   "cell_type": "code",
   "execution_count": 10,
   "metadata": {},
   "outputs": [],
   "source": [
    "sense_dictionary = {}\n",
    "synonym = list()\n",
    "antonym = list()\n",
    "vocabulary = word_vector.keys()\n",
    "for pair in synonym_pairs:\n",
    "    w_1 = pair[0].split('.')[3]\n",
    "    w_2 = pair[1].split('.')[3]\n",
    "    if w_1 in vocabulary and w_2 in vocabulary:\n",
    "        synonym.append(pair)\n",
    "        if pair[0] not in sense_dictionary.keys():\n",
    "            sense_dictionary[pair[0]] = word_vector.get(w_1)\n",
    "        if pair[1] not in sense_dictionary.keys():\n",
    "            sense_dictionary[pair[1]] = word_vector.get(w_2)\n",
    "for pair in antonym_pairs:\n",
    "    w_1 = pair[0].split('.')[3]\n",
    "    w_2 = pair[1].split('.')[3]\n",
    "    if w_1 in vocabulary and w_2 in vocabulary:\n",
    "        antonym.append(pair)\n",
    "        if pair[0] not in sense_dictionary.keys():\n",
    "            sense_dictionary[pair[0]] = word_vector.get(w_1)\n",
    "        if pair[1] not in sense_dictionary.keys():\n",
    "            sense_dictionary[pair[1]] = word_vector.get(w_2)"
   ]
  },
  {
   "cell_type": "code",
   "execution_count": 11,
   "metadata": {
    "scrolled": false
   },
   "outputs": [
    {
     "name": "stdout",
     "output_type": "stream",
     "text": [
      "[-0.23417, -0.021104, 0.072499, 0.16773, 0.11218, 0.14801, -0.099295, -0.088597, 0.046119, 0.10415, 0.017575, 0.10769, -0.025132, -0.0072077, 0.12661, -0.37072, -0.42196, -0.090921, 0.17775, 0.10395, -0.046298, 0.011755, 0.12162, 0.015337, -0.086871, -0.0011235, -0.28259, 0.071739, -0.013488, 0.022707, -0.1237, 0.31346, -0.29272, 0.35415, 0.10873, -0.18852, 0.109, -0.13794, -0.11213, -0.10736, -0.091893, -0.02019, -0.01634, 0.043079, -0.11665, 0.20862, -0.012117, 0.10381, 0.095018, -0.11028, 0.049204, 0.00083265, -0.1252, -0.29658, 0.13684, 0.16542, -0.18337, 0.10757, -0.014247, 0.18459, -0.24676, -0.12443, 0.43813, -0.17645, -0.036569, -0.52221, -0.10107, -0.096075, 0.089985, 0.25169, -0.33944, 0.19708, 0.21602, -0.024777, 0.019845, 0.083117, 0.25968, 0.10151, -0.22714, -0.22647, 0.10688, 0.0085535, -0.20312, -0.0029373, 0.17737, 0.21769, -0.049969, 0.21635, 0.075007, -0.094481, 0.084635, 0.022453, -0.093466, -0.23453, 0.19121, -0.11608, 0.075004, -0.016111, 0.01662, -0.0039397, -0.21329, -0.04317, 0.045361, 0.0088716, -0.26844, -0.23731, -0.25157, -0.090611, -0.095795, 0.16298, -0.083226, 0.11555, 0.0088312, 0.24995, 0.25739, -0.11898, 0.22179, 0.19103, 0.32187, 0.15732, 0.08582, 0.083297, -0.086901, 0.42172, 0.10288, 0.042069, -0.022326, -0.05747, -0.1271, 0.088953, 0.037853, 0.14848, -0.10961, 0.020887, -0.034059, 0.085131, -0.092297, 0.22586, -0.013716, 0.30405, -0.11628, 0.021973, 0.077427, -0.076292, -0.15195, 0.027231, -0.3082, -0.10859, 0.21399, 0.070497, -0.054531, -0.14918, 0.26268, -0.050662, -0.014092, -0.025826, 0.084883, -0.15085, 0.3517, 0.069433, -0.27372, 0.43282, -0.24185, 0.14421, 0.026148, -0.00018704, -0.14897, -0.017052, 0.33371, -0.0062556, -0.20164, -0.22188, -8.6077e-05, -0.077469, -0.42093, 0.3552, -0.13278, 0.21009, -0.04196, -0.034325, 0.40364, 0.043332, -0.18782, 0.028217, -0.28892, 0.1445, 0.10827, -0.15447, 0.18899, -0.15829, 0.1615, -0.3022, 0.0957, 0.18212, -0.24604, -0.060199, 0.11339, -0.05244, -0.24694, -0.26611, 0.14492, 0.13851, 0.038479, 0.023946, -0.011759, 0.045724, -0.28493, 0.15954, -0.038684, -0.10061, 0.3176, -0.031055, 0.2064, -0.11386, 0.36101, -0.012603, 0.097038, -0.17741, -0.21233, 0.21545, -0.096952, -0.083342, -0.16264, 0.30832, 0.18949, 0.011727, -0.099712, 0.14339, -0.067652, -0.095097, 0.1683, 0.10521, -0.17358, 0.070024, -0.081425, 0.23434, 0.14003, -0.046319, 0.1963, -0.12405, -0.075531, -0.094153, 0.23082, 0.033329, 0.038276, -0.064384, 0.22944, 0.099462, 0.076693, -0.0013656, 0.036858, 0.18521, 0.0085517, -0.17985, 0.14526, 0.30368, -0.0048548, -0.057374, 0.11639, -0.045368, 0.038909, 0.011309, -0.0091701, -0.052767, -0.31165, 0.0056571, -0.093753, -0.14268, -0.17001, -0.042875, -0.21766, 0.041383, 0.26958, 0.16045, 0.014024, -0.20227, -0.10512, 0.24981, 0.12025, -0.03411, 0.19407, 0.21892, 0.076529, -0.15763, -0.10585, -0.0012923, 0.031786, 0.032766, -0.16365, 0.10226, -0.0035102, 0.16566, 0.16202, -0.20594, 0.097266, 0.033391, 0.00079534, 0.04111, 0.087214, -0.045901]\n",
      "[-0.23417, -0.021104, 0.072499, 0.16773, 0.11218, 0.14801, -0.099295, -0.088597, 0.046119, 0.10415, 0.017575, 0.10769, -0.025132, -0.0072077, 0.12661, -0.37072, -0.42196, -0.090921, 0.17775, 0.10395, -0.046298, 0.011755, 0.12162, 0.015337, -0.086871, -0.0011235, -0.28259, 0.071739, -0.013488, 0.022707, -0.1237, 0.31346, -0.29272, 0.35415, 0.10873, -0.18852, 0.109, -0.13794, -0.11213, -0.10736, -0.091893, -0.02019, -0.01634, 0.043079, -0.11665, 0.20862, -0.012117, 0.10381, 0.095018, -0.11028, 0.049204, 0.00083265, -0.1252, -0.29658, 0.13684, 0.16542, -0.18337, 0.10757, -0.014247, 0.18459, -0.24676, -0.12443, 0.43813, -0.17645, -0.036569, -0.52221, -0.10107, -0.096075, 0.089985, 0.25169, -0.33944, 0.19708, 0.21602, -0.024777, 0.019845, 0.083117, 0.25968, 0.10151, -0.22714, -0.22647, 0.10688, 0.0085535, -0.20312, -0.0029373, 0.17737, 0.21769, -0.049969, 0.21635, 0.075007, -0.094481, 0.084635, 0.022453, -0.093466, -0.23453, 0.19121, -0.11608, 0.075004, -0.016111, 0.01662, -0.0039397, -0.21329, -0.04317, 0.045361, 0.0088716, -0.26844, -0.23731, -0.25157, -0.090611, -0.095795, 0.16298, -0.083226, 0.11555, 0.0088312, 0.24995, 0.25739, -0.11898, 0.22179, 0.19103, 0.32187, 0.15732, 0.08582, 0.083297, -0.086901, 0.42172, 0.10288, 0.042069, -0.022326, -0.05747, -0.1271, 0.088953, 0.037853, 0.14848, -0.10961, 0.020887, -0.034059, 0.085131, -0.092297, 0.22586, -0.013716, 0.30405, -0.11628, 0.021973, 0.077427, -0.076292, -0.15195, 0.027231, -0.3082, -0.10859, 0.21399, 0.070497, -0.054531, -0.14918, 0.26268, -0.050662, -0.014092, -0.025826, 0.084883, -0.15085, 0.3517, 0.069433, -0.27372, 0.43282, -0.24185, 0.14421, 0.026148, -0.00018704, -0.14897, -0.017052, 0.33371, -0.0062556, -0.20164, -0.22188, -8.6077e-05, -0.077469, -0.42093, 0.3552, -0.13278, 0.21009, -0.04196, -0.034325, 0.40364, 0.043332, -0.18782, 0.028217, -0.28892, 0.1445, 0.10827, -0.15447, 0.18899, -0.15829, 0.1615, -0.3022, 0.0957, 0.18212, -0.24604, -0.060199, 0.11339, -0.05244, -0.24694, -0.26611, 0.14492, 0.13851, 0.038479, 0.023946, -0.011759, 0.045724, -0.28493, 0.15954, -0.038684, -0.10061, 0.3176, -0.031055, 0.2064, -0.11386, 0.36101, -0.012603, 0.097038, -0.17741, -0.21233, 0.21545, -0.096952, -0.083342, -0.16264, 0.30832, 0.18949, 0.011727, -0.099712, 0.14339, -0.067652, -0.095097, 0.1683, 0.10521, -0.17358, 0.070024, -0.081425, 0.23434, 0.14003, -0.046319, 0.1963, -0.12405, -0.075531, -0.094153, 0.23082, 0.033329, 0.038276, -0.064384, 0.22944, 0.099462, 0.076693, -0.0013656, 0.036858, 0.18521, 0.0085517, -0.17985, 0.14526, 0.30368, -0.0048548, -0.057374, 0.11639, -0.045368, 0.038909, 0.011309, -0.0091701, -0.052767, -0.31165, 0.0056571, -0.093753, -0.14268, -0.17001, -0.042875, -0.21766, 0.041383, 0.26958, 0.16045, 0.014024, -0.20227, -0.10512, 0.24981, 0.12025, -0.03411, 0.19407, 0.21892, 0.076529, -0.15763, -0.10585, -0.0012923, 0.031786, 0.032766, -0.16365, 0.10226, -0.0035102, 0.16566, 0.16202, -0.20594, 0.097266, 0.033391, 0.00079534, 0.04111, 0.087214, -0.045901]\n"
     ]
    }
   ],
   "source": [
    "if 'whole.n.02.whole' in sense_dictionary.keys():\n",
    "    print(sense_dictionary.get('whole.n.02.whole'))\n",
    "    print(word_vector.get('whole'))"
   ]
  },
  {
   "cell_type": "code",
   "execution_count": 12,
   "metadata": {},
   "outputs": [
    {
     "name": "stdout",
     "output_type": "stream",
     "text": [
      "54278\n",
      "1000000\n"
     ]
    }
   ],
   "source": [
    "print(len(sense_dictionary))\n",
    "print(len(word_vector))"
   ]
  },
  {
   "cell_type": "code",
   "execution_count": 13,
   "metadata": {
    "scrolled": false
   },
   "outputs": [],
   "source": [
    "with open('sense_dictionary.txt', 'w') as f:\n",
    "    for key in sense_dictionary:\n",
    "        word = [key, \" \".join(map(str, numpy.round(sense_dictionary[key], decimals=6)))]\n",
    "        f.write(\"%s\\n\" % word)\n",
    "with open('original_dictionary.txt', 'w') as f:\n",
    "    for key in word_vector:\n",
    "        word = [key, \" \".join(map(str, numpy.round(word_vector[key], decimals=6)))]\n",
    "        f.write(\"%s\\n\" % word)"
   ]
  },
  {
   "cell_type": "code",
   "execution_count": 14,
   "metadata": {},
   "outputs": [
    {
     "name": "stdout",
     "output_type": "stream",
     "text": [
      "['whole.n.02.whole', 'whole.n.02.unit']\n",
      "['organism.n.01.organism', 'organism.n.01.being']\n",
      "['person.n.01.person', 'person.n.01.individual']\n",
      "['person.n.01.person', 'person.n.01.someone']\n",
      "['person.n.01.person', 'person.n.01.somebody']\n",
      "\n",
      "['ability.n.01.ability', 'inability.n.02.inability']\n",
      "['ability.n.01.ability', 'inability.n.02.unfitness']\n",
      "['ability.n.02.ability', 'inability.n.01.inability']\n",
      "['ability.n.02.power', 'inability.n.01.inability']\n",
      "['abnormality.n.01.abnormality', 'normality.n.01.normality']\n"
     ]
    }
   ],
   "source": [
    "for i in range(0,5):\n",
    "    print(synonym[i])\n",
    "print()\n",
    "for i in range(0,5):\n",
    "    print(antonym[i])"
   ]
  },
  {
   "cell_type": "code",
   "execution_count": 15,
   "metadata": {},
   "outputs": [
    {
     "name": "stdout",
     "output_type": "stream",
     "text": [
      "54319\n",
      "5737\n"
     ]
    }
   ],
   "source": [
    "print(len(synonym))\n",
    "print(len(antonym))"
   ]
  },
  {
   "cell_type": "code",
   "execution_count": 16,
   "metadata": {},
   "outputs": [],
   "source": [
    "with open('synonym.txt', 'w') as f:\n",
    "    for i in synonym:\n",
    "        f.write(\"%s\\n\" % str(i))\n",
    "with open('antonym.txt', 'w') as f:\n",
    "    for i in antonym:\n",
    "        f.write(\"%s\\n\" % str(i))"
   ]
  },
  {
   "cell_type": "code",
   "execution_count": null,
   "metadata": {},
   "outputs": [],
   "source": []
  }
 ],
 "metadata": {
  "kernelspec": {
   "display_name": "Python 3",
   "language": "python",
   "name": "python3"
  },
  "language_info": {
   "codemirror_mode": {
    "name": "ipython",
    "version": 3
   },
   "file_extension": ".py",
   "mimetype": "text/x-python",
   "name": "python",
   "nbconvert_exporter": "python",
   "pygments_lexer": "ipython3",
   "version": "3.6.8"
  }
 },
 "nbformat": 4,
 "nbformat_minor": 2
}
