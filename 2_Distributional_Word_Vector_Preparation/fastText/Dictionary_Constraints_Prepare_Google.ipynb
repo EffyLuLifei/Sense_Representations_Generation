{
 "cells": [
  {
   "cell_type": "markdown",
   "metadata": {},
   "source": [
    "# Google Dictionary and Constraints Prepare"
   ]
  },
  {
   "cell_type": "markdown",
   "metadata": {},
   "source": [
    "##### Import packages"
   ]
  },
  {
   "cell_type": "code",
   "execution_count": 1,
   "metadata": {},
   "outputs": [],
   "source": [
    "import io\n",
    "import os\n",
    "import numpy\n",
    "from gensim import models"
   ]
  },
  {
   "cell_type": "markdown",
   "metadata": {},
   "source": [
    "#####  Set the path"
   ]
  },
  {
   "cell_type": "code",
   "execution_count": 2,
   "metadata": {},
   "outputs": [
    {
     "name": "stdout",
     "output_type": "stream",
     "text": [
      "/Users/effylu/Desktop/Thesis\n"
     ]
    }
   ],
   "source": [
    "print(os.getcwd())"
   ]
  },
  {
   "cell_type": "markdown",
   "metadata": {},
   "source": [
    "##### Read constraint pairs"
   ]
  },
  {
   "cell_type": "code",
   "execution_count": 3,
   "metadata": {},
   "outputs": [],
   "source": [
    "synonym_file = open(\"synpairs.txt\", \"r\")\n",
    "antonym_file = open(\"antpairs.txt\", \"r\")\n",
    "synonym_pair = synonym_file.readlines()\n",
    "antonym_pair = antonym_file.readlines()\n",
    "synonym_file.close()\n",
    "antonym_file.close()"
   ]
  },
  {
   "cell_type": "code",
   "execution_count": 4,
   "metadata": {},
   "outputs": [],
   "source": [
    "synonym_pairs = list()\n",
    "for i in synonym_pair:\n",
    "    try:\n",
    "        w = [i.split(\",\")[0][2:-1], i.split(\",\")[1][2:-3]]\n",
    "        synonym_pairs.append(w)\n",
    "    except:\n",
    "        continue\n",
    "antonym_pairs = list()\n",
    "for i in antonym_pair:\n",
    "    try:\n",
    "        w = [i.split(\",\")[0][2:-1], i.split(\",\")[1][2:-3]]\n",
    "        antonym_pairs.append(w)\n",
    "    except:\n",
    "        continue "
   ]
  },
  {
   "cell_type": "code",
   "execution_count": 5,
   "metadata": {},
   "outputs": [
    {
     "name": "stdout",
     "output_type": "stream",
     "text": [
      "['abstraction.n.06.abstraction', 'abstraction.n.06.abstract_entity']\n",
      "['object.n.01.object', 'object.n.01.physical_object']\n",
      "['whole.n.02.whole', 'whole.n.02.unit']\n",
      "['living_thing.n.01.living_thing', 'living_thing.n.01.animate_thing']\n",
      "['organism.n.01.organism', 'organism.n.01.being']\n",
      "\n",
      "['abience.n.01.abience', 'adience.n.01.adience']\n",
      "['ability.n.01.ability', 'inability.n.02.inability']\n",
      "['ability.n.01.ability', 'inability.n.02.unfitness']\n",
      "['ability.n.02.ability', 'inability.n.01.inability']\n",
      "['ability.n.02.power', 'inability.n.01.inability']\n"
     ]
    }
   ],
   "source": [
    "for i in range(0,5):\n",
    "    print(synonym_pairs[i])\n",
    "print()\n",
    "for i in range(0,5):\n",
    "    print(antonym_pairs[i])"
   ]
  },
  {
   "cell_type": "code",
   "execution_count": 6,
   "metadata": {},
   "outputs": [
    {
     "name": "stdout",
     "output_type": "stream",
     "text": [
      "154776\n",
      "9977\n"
     ]
    }
   ],
   "source": [
    "print(len(synonym_pairs))\n",
    "print(len(antonym_pairs))"
   ]
  },
  {
   "cell_type": "markdown",
   "metadata": {},
   "source": [
    "##### Defind function for loading the FastText word embedding vectors"
   ]
  },
  {
   "cell_type": "code",
   "execution_count": 8,
   "metadata": {
    "scrolled": false
   },
   "outputs": [
    {
     "name": "stderr",
     "output_type": "stream",
     "text": [
      "/Users/effylu/anaconda/lib/python3.6/site-packages/smart_open/smart_open_lib.py:398: UserWarning: This function is deprecated, use smart_open.open instead. See the migration notes for details: https://github.com/RaRe-Technologies/smart_open/blob/master/README.rst#migrating-to-the-new-open-function\n",
      "  'See the migration notes for details: %s' % _MIGRATION_NOTES_URL\n"
     ]
    }
   ],
   "source": [
    "w = models.KeyedVectors.load_word2vec_format('GoogleNews-vectors-negative300.bin', binary=True)"
   ]
  },
  {
   "cell_type": "code",
   "execution_count": 19,
   "metadata": {
    "scrolled": false
   },
   "outputs": [
    {
     "name": "stdout",
     "output_type": "stream",
     "text": [
      "[0.051269531, -0.022338867, -0.17285156, 0.16113281, -0.084472656, 0.057373047, 0.05859375, -0.082519531, -0.015380859, -0.063476562, 0.1796875, -0.42382812, -0.022583008, -0.16601562, -0.025146484, 0.10742188, -0.19921875, 0.15917969, -0.1875, -0.12011719, 0.15527344, -0.099121094, 0.14257812, -0.1640625, -0.089355469, 0.20019531, -0.14941406, 0.3203125, 0.328125, 0.024414062, -0.097167969, -0.08203125, -0.036376953, -0.0859375, -0.098632812, 0.0077819824, -0.013427734, 0.052734375, 0.1484375, 0.33398438, 0.016601562, -0.21289062, -0.015075684, 0.052490234, -0.10742188, -0.088867188, 0.24902344, -0.0703125, -0.015991211, 0.075683594, -0.0703125, 0.11914062, 0.22949219, 0.014160156, 0.11523438, 0.0075073242, 0.27539062, -0.24414062, 0.296875, 0.034912109, 0.2421875, 0.13574219, 0.14257812, 0.017578125, 0.029296875, -0.12158203, 0.022827148, -0.047607422, -0.15527344, 0.0031433105, 0.34570312, 0.12255859, -0.1953125, 0.081054688, -0.068359375, -0.014709473, 0.21484375, -0.12109375, 0.15722656, -0.20703125, 0.13671875, -0.12988281, 0.052978516, -0.27148438, -0.29882812, -0.18457031, -0.22949219, 0.11914062, 0.015319824, -0.26171875, -0.12304688, -0.018676758, -0.064941406, -0.081542969, 0.078613281, -0.35351562, 0.052490234, -0.024536133, -0.0054321289, -0.20898438, -0.2109375, -0.1796875, 0.2421875, 0.2578125, 0.13769531, -0.2109375, -0.021728516, -0.13867188, 0.018432617, -0.012390137, -0.15917969, 0.16113281, 0.20800781, 0.10302734, 0.098144531, -0.068359375, -0.0087280273, -0.2890625, -0.21484375, -0.11425781, -0.22167969, 0.041259766, -0.3125, -0.055908203, -0.09765625, 0.058105469, -0.040527344, -0.17382812, 0.1640625, -0.25390625, -0.15429688, -0.023193359, -0.23828125, 0.020751953, -0.2734375, 0.00390625, 0.11376953, -0.17382812, 0.2578125, 0.23535156, 0.052246094, 0.068359375, -0.17578125, 0.16015625, -0.00059890747, 0.059814453, -0.21191406, -0.055419922, -0.075195312, -0.30664062, 0.42773438, 0.053222656, -0.20898438, -0.057128906, -0.20996094, 0.032958984, 0.10546875, -0.15039062, -0.09375, 0.11669922, 0.064453125, 0.028076172, 0.24121094, -0.12597656, -0.10058594, -0.012268066, -0.00032615662, 0.015869141, 0.12792969, -0.033203125, 0.040771484, -0.13183594, 0.098144531, 0.17480469, -0.23632812, 0.051757812, 0.18359375, 0.024291992, -0.43164062, 0.24609375, -0.030395508, -0.024780273, -0.1171875, 0.16113281, -0.057128906, 0.011657715, 0.28125, 0.42773438, 0.045654297, 0.10107422, -0.039550781, 0.017700195, -0.08984375, 0.13574219, 0.20800781, 0.18847656, -0.15234375, -0.23730469, -0.19042969, 0.071289062, -0.24609375, -0.26171875, -0.234375, -0.14550781, -0.01171875, -0.15039062, -0.11328125, 0.18261719, 0.26367188, -0.13769531, -0.45898438, -0.046875, -0.12695312, -0.042236328, -0.16699219, 0.12695312, 0.25976562, -0.24414062, -0.21972656, -0.086914062, 0.15917969, -0.037841797, 0.008972168, -0.27734375, -0.10498047, -0.17578125, 0.22851562, -0.027099609, 0.28515625, -0.2734375, 0.016113281, 0.059082031, -0.23925781, 0.17773438, -0.13476562, 0.13867188, 0.35351562, 0.12207031, 0.14355469, 0.092285156, 0.22949219, -0.30078125, -0.048828125, -0.1796875, 0.296875, 0.17578125, 0.048095703, -0.0033874512, 0.079101562, -0.23828125, -0.23144531, 0.16601562, -0.21386719, -0.0703125, -0.075683594, 0.19628906, -0.12988281, -0.10595703, -0.35351562, -0.11669922, -0.051025391, 0.033935547, -0.14355469, -0.00390625, 0.17382812, -0.099609375, -0.16601562, -0.085449219, -0.3828125, 0.059082031, -0.062255859, 0.088378906, -0.088867188, 0.328125, 0.068359375, -0.19140625, -0.0008354187, 0.10400391, 0.15234375, -0.0015335083, 0.41601562, -0.033203125, 0.14941406, 0.2421875, -0.17675781, -0.049316406, -0.12451172, 0.12597656, 0.17480469, 0.28125, -0.18066406, 0.10302734, -0.27539062, 0.26171875, 0.24609375, -0.047119141, 0.0625, 0.41601562, -0.35546875, 0.22265625]\n"
     ]
    }
   ],
   "source": [
    "print(list(w.get_vector('dog')))"
   ]
  },
  {
   "cell_type": "markdown",
   "metadata": {},
   "source": [
    "##### Define the function for creating the new dictionary"
   ]
  },
  {
   "cell_type": "code",
   "execution_count": 21,
   "metadata": {},
   "outputs": [],
   "source": [
    "sense_dictionary = {}\n",
    "synonym = list()\n",
    "antonym = list()\n",
    "for pair in synonym_pairs:\n",
    "    w_1 = pair[0].split('.')[3]\n",
    "    w_2 = pair[1].split('.')[3]\n",
    "    if w_1 in w and w_2 in w:\n",
    "        synonym.append(pair)\n",
    "        if pair[0] not in sense_dictionary.keys():\n",
    "            sense_dictionary[pair[0]] = list(w.get_vector(w_1))\n",
    "        if pair[1] not in sense_dictionary.keys():\n",
    "            sense_dictionary[pair[1]] = list(w.get_vector(w_2))\n",
    "for pair in antonym_pairs:\n",
    "    w_1 = pair[0].split('.')[3]\n",
    "    w_2 = pair[1].split('.')[3]\n",
    "    if w_1 in w and w_2 in w:\n",
    "        antonym.append(pair)\n",
    "        if pair[0] not in sense_dictionary.keys():\n",
    "            sense_dictionary[pair[0]] = list(w.get_vector(w_1))\n",
    "        if pair[1] not in sense_dictionary.keys():\n",
    "            sense_dictionary[pair[1]] = list(w.get_vector(w_2))"
   ]
  },
  {
   "cell_type": "code",
   "execution_count": 22,
   "metadata": {
    "scrolled": false
   },
   "outputs": [
    {
     "name": "stdout",
     "output_type": "stream",
     "text": [
      "[0.075195312, -0.018920898, -0.0053710938, 0.23925781, -0.2109375, -0.00078201294, 0.030273438, -0.19042969, 0.012634277, 0.086914062, 0.10595703, -0.20703125, 0.051513672, -0.071777344, -0.050537109, 0.029418945, 0.014099121, 0.084472656, -0.064941406, -0.16992188, 0.032714844, 0.17480469, 0.031738281, 0.2421875, 0.23242188, 0.12060547, -0.083007812, 0.085449219, 0.035644531, 0.10351562, -0.27148438, 0.12207031, 0.069824219, 0.097167969, 0.20214844, 0.044677734, -0.032470703, -0.0018310547, -0.009765625, 0.20996094, 0.032226562, -0.13378906, -0.10595703, -0.09765625, -0.019287109, -0.0055541992, -0.01940918, -0.024414062, 0.076171875, -0.025146484, 0.20117188, 0.086914062, -0.0050354004, -0.014404297, 0.019165039, 0.12158203, -0.050537109, -0.13574219, 0.15917969, -0.21582031, -0.048339844, 0.21582031, 0.064941406, -0.12890625, 0.15527344, -0.059326172, -0.011657715, 0.0023345947, -0.045166016, 0.034179688, 0.082519531, -0.030883789, 0.32617188, -0.087402344, -0.23828125, -0.072265625, 0.051025391, -0.020996094, 0.027587891, -0.081054688, 0.024902344, -0.026977539, 0.038085938, 0.15625, -0.18359375, -0.10498047, -0.2578125, 0.34375, -0.061523438, -0.041259766, 0.1640625, 0.05078125, -0.09375, -0.25976562, -0.1640625, 0.02722168, -0.084960938, -0.073242188, -0.015625, -0.0050354004, -0.17871094, -0.066894531, 0.069335938, 0.010009766, -0.17089844, 0.13769531, -0.078613281, 0.020996094, -0.018066406, -0.1953125, -0.056884766, -0.085449219, 0.057128906, 0.064941406, 0.17773438, 0.081054688, 0.012023926, -0.0022735596, 0.26953125, -0.0047912598, -0.19921875, -0.18066406, -0.21875, 0.052246094, -0.062988281, -0.016479492, -0.031005859, 0.040527344, -0.0546875, 0.15917969, -0.14941406, 0.14355469, -0.203125, 0.041748047, 0.027587891, -0.08203125, 0.091308594, -0.056884766, 0.10253906, -0.028686523, -0.014770508, -0.12890625, 0.11767578, -0.021606445, -0.0023803711, -0.030273438, -0.171875, 0.010559082, 0.031982422, 0.013061523, 0.0048522949, 0.016723633, -0.2421875, 0.16308594, -0.065917969, 0.10009766, 0.19921875, -0.31054688, -0.13476562, -0.12207031, -0.16894531, 0.099609375, 0.075195312, 0.15722656, 0.03515625, -0.016479492, 0.086914062, -0.066894531, -0.019165039, -0.012573242, -0.054199219, -0.035644531, 0.084472656, -0.055175781, 0.0084838867, -0.033203125, 0.20117188, -0.11035156, 0.21679688, 0.10107422, 0.036376953, -0.15527344, -0.07421875, 0.0073547363, -0.14648438, 0.22070312, -0.037353516, 0.0060119629, 0.12304688, 0.011047363, 0.12890625, 0.030517578, 0.040039062, 0.16210938, 0.15234375, -0.066894531, -0.1484375, 0.28320312, -0.15136719, -0.17089844, 0.13769531, 0.091308594, -0.11962891, 0.042480469, -0.015563965, 0.15820312, -0.036376953, -0.024414062, 0.040527344, 0.030151367, -0.061035156, 0.18261719, 0.041748047, 0.032470703, -0.0030975342, 0.01373291, 0.24609375, -0.047851562, -0.029541016, -0.068359375, -0.054931641, -0.012268066, -0.021118164, 0.079101562, -0.023925781, -0.16113281, 0.078613281, 0.1015625, -0.047363281, 0.12792969, -0.099121094, -0.020507812, 0.16796875, 0.078125, -0.11962891, -0.14355469, 0.030273438, 0.077636719, 0.11035156, 0.10595703, 0.071289062, 0.013061523, -0.023681641, -0.089355469, -0.21191406, -0.1328125, -0.0081787109, 0.022460938, -0.20605469, 0.22265625, -0.064941406, 0.14550781, 0.081542969, 0.10742188, 0.047119141, -0.15527344, -0.014221191, -0.20898438, 0.25585938, -0.27929688, -0.12255859, -0.21289062, -0.042480469, -0.095703125, -0.0390625, 0.077636719, 0.18164062, -0.044189453, -0.296875, 0.053955078, -0.23535156, 0.11621094, 0.27734375, 0.028320312, -0.0063476562, -0.28125, 0.069335938, 0.034179688, -0.14746094, -0.061035156, -0.016113281, 0.070800781, -0.085449219, 0.15332031, -0.047607422, 0.040283203, -0.12158203, -0.12060547, -0.037353516, 0.0057678223, -0.34179688, 0.20605469, -0.092773438, 0.045166016, -0.13769531, 0.084472656, 0.058105469, -0.040283203, 0.11279297, -0.20117188]\n"
     ]
    }
   ],
   "source": [
    "if 'whole.n.02.whole' in sense_dictionary.keys():\n",
    "    print(sense_dictionary.get('whole.n.02.whole'))"
   ]
  },
  {
   "cell_type": "code",
   "execution_count": 23,
   "metadata": {
    "scrolled": true
   },
   "outputs": [
    {
     "name": "stdout",
     "output_type": "stream",
     "text": [
      "60840\n"
     ]
    }
   ],
   "source": [
    "print(len(sense_dictionary))"
   ]
  },
  {
   "cell_type": "markdown",
   "metadata": {},
   "source": [
    "##### Read evaluation vacabularys"
   ]
  },
  {
   "cell_type": "code",
   "execution_count": 49,
   "metadata": {},
   "outputs": [],
   "source": [
    "def find_vocabulary(path):\n",
    "    file = open(path, \"r\")\n",
    "    data = file.readlines()\n",
    "    subdata = data[1:]\n",
    "    file.close()\n",
    "    vocabulary = list()\n",
    "    for line in subdata:\n",
    "        w_1 = line.split('\\t')[0]\n",
    "        w_2 = line.split('\\t')[1]\n",
    "        if w_1 not in vocabulary:\n",
    "            vocabulary.append(w_1)\n",
    "        if w_2 not in vocabulary:\n",
    "            vocabulary.append(w_2)\n",
    "    return vocabulary"
   ]
  },
  {
   "cell_type": "code",
   "execution_count": 64,
   "metadata": {},
   "outputs": [],
   "source": [
    "def find_vocabulary_space(path):\n",
    "    file = open(path, \"r\")\n",
    "    data = file.readlines()\n",
    "    subdata = data[1:]\n",
    "    file.close()\n",
    "    vocabulary = list()\n",
    "    for line in subdata:\n",
    "        w_1 = line.split(' ')[0]\n",
    "        w_2 = line.split(' ')[1]\n",
    "        if w_1 not in vocabulary:\n",
    "            vocabulary.append(w_1)\n",
    "        if w_2 not in vocabulary:\n",
    "            vocabulary.append(w_2)\n",
    "    return vocabulary"
   ]
  },
  {
   "cell_type": "code",
   "execution_count": 66,
   "metadata": {},
   "outputs": [],
   "source": [
    "simlex_english_old_v = find_vocabulary(\"simlex-english-old.txt\")\n",
    "simlex_english_v = find_vocabulary(\"simlex-english.txt\")\n",
    "simverb_v = find_vocabulary(\"simverb.txt\")\n",
    "wordsim353_english_v = find_vocabulary(\"wordsim353-english.txt\")\n",
    "RG_65_v = find_vocabulary(\"RG-65.txt\")\n",
    "YP_130_v = find_vocabulary_space(\"YP-130.txt\")\n",
    "MEN_3K_v = find_vocabulary_space(\"MEN-3K.txt\")"
   ]
  },
  {
   "cell_type": "code",
   "execution_count": 67,
   "metadata": {},
   "outputs": [
    {
     "name": "stdout",
     "output_type": "stream",
     "text": [
      "4264\n",
      "2499\n"
     ]
    }
   ],
   "source": [
    "vocabulary = list()\n",
    "for i in simlex_english_old_v:\n",
    "    vocabulary.append(i)\n",
    "for i in simlex_english_v:\n",
    "    vocabulary.append(i)\n",
    "for i in simverb_v:\n",
    "    vocabulary.append(i)\n",
    "for i in wordsim353_english_v:\n",
    "    vocabulary.append(i)\n",
    "for i in RG_65_v:\n",
    "    vocabulary.append(i)\n",
    "for i in YP_130_v:\n",
    "    vocabulary.append(i)\n",
    "for i in MEN_3K_v:\n",
    "    vocabulary.append(i)\n",
    "print(len(vocabulary))\n",
    "vocabulary = list(dict.fromkeys(vocabulary))\n",
    "print(len(vocabulary))"
   ]
  },
  {
   "cell_type": "code",
   "execution_count": 68,
   "metadata": {},
   "outputs": [],
   "source": [
    "word_vector = {}\n",
    "for word in vocabulary:\n",
    "    if word in w:\n",
    "        word_vector[word] = list(w.get_vector(word))"
   ]
  },
  {
   "cell_type": "code",
   "execution_count": 59,
   "metadata": {
    "scrolled": false
   },
   "outputs": [],
   "source": [
    "with open('sense_dictionary.txt', 'w') as f:\n",
    "    for key in sense_dictionary:\n",
    "        word = [key, \" \".join(map(str, numpy.round(sense_dictionary[key], decimals=6)))]\n",
    "        f.write(\"%s\\n\" % word)"
   ]
  },
  {
   "cell_type": "code",
   "execution_count": 69,
   "metadata": {},
   "outputs": [],
   "source": [
    "with open('original_dictionary.txt', 'w') as f:\n",
    "    for key in word_vector:\n",
    "        word = [key, \" \".join(map(str, numpy.round(word_vector[key], decimals=6)))]\n",
    "        f.write(\"%s\\n\" % word)"
   ]
  },
  {
   "cell_type": "code",
   "execution_count": 60,
   "metadata": {},
   "outputs": [
    {
     "name": "stdout",
     "output_type": "stream",
     "text": [
      "['whole.n.02.whole', 'whole.n.02.unit']\n",
      "['organism.n.01.organism', 'organism.n.01.being']\n",
      "['person.n.01.person', 'person.n.01.individual']\n",
      "['person.n.01.person', 'person.n.01.someone']\n",
      "['person.n.01.person', 'person.n.01.somebody']\n",
      "\n",
      "['ability.n.01.ability', 'inability.n.02.inability']\n",
      "['ability.n.01.ability', 'inability.n.02.unfitness']\n",
      "['ability.n.02.ability', 'inability.n.01.inability']\n",
      "['ability.n.02.power', 'inability.n.01.inability']\n",
      "['abnormality.n.01.abnormality', 'normality.n.01.normality']\n"
     ]
    }
   ],
   "source": [
    "for i in range(0,5):\n",
    "    print(synonym[i])\n",
    "print()\n",
    "for i in range(0,5):\n",
    "    print(antonym[i])"
   ]
  },
  {
   "cell_type": "code",
   "execution_count": 61,
   "metadata": {},
   "outputs": [
    {
     "name": "stdout",
     "output_type": "stream",
     "text": [
      "57851\n",
      "5427\n"
     ]
    }
   ],
   "source": [
    "print(len(synonym))\n",
    "print(len(antonym))"
   ]
  },
  {
   "cell_type": "code",
   "execution_count": 62,
   "metadata": {},
   "outputs": [],
   "source": [
    "with open('synonym.txt', 'w') as f:\n",
    "    for i in synonym:\n",
    "        f.write(\"%s\\n\" % str(i))\n",
    "with open('antonym.txt', 'w') as f:\n",
    "    for i in antonym:\n",
    "        f.write(\"%s\\n\" % str(i))"
   ]
  },
  {
   "cell_type": "code",
   "execution_count": null,
   "metadata": {},
   "outputs": [],
   "source": []
  }
 ],
 "metadata": {
  "kernelspec": {
   "display_name": "Python 3",
   "language": "python",
   "name": "python3"
  },
  "language_info": {
   "codemirror_mode": {
    "name": "ipython",
    "version": 3
   },
   "file_extension": ".py",
   "mimetype": "text/x-python",
   "name": "python",
   "nbconvert_exporter": "python",
   "pygments_lexer": "ipython3",
   "version": "3.6.8"
  }
 },
 "nbformat": 4,
 "nbformat_minor": 2
}
